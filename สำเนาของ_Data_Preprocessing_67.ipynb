{
  "cells": [
    {
      "cell_type": "markdown",
      "metadata": {
        "id": "view-in-github",
        "colab_type": "text"
      },
      "source": [
        "<a href=\"https://colab.research.google.com/github/thinnarat007/Big/blob/main/%E0%B8%AA%E0%B8%B3%E0%B9%80%E0%B8%99%E0%B8%B2%E0%B8%82%E0%B8%AD%E0%B8%87_Data_Preprocessing_67.ipynb\" target=\"_parent\"><img src=\"https://colab.research.google.com/assets/colab-badge.svg\" alt=\"Open In Colab\"/></a>"
      ]
    },
    {
      "cell_type": "markdown",
      "id": "2e4a7b28",
      "metadata": {
        "id": "2e4a7b28"
      },
      "source": [
        "# Data Preprocessing\n",
        "### Data Preprocessing, Data Visualization, Data Analysis"
      ]
    },
    {
      "cell_type": "markdown",
      "id": "6525cabe",
      "metadata": {
        "id": "6525cabe"
      },
      "source": [
        "ชื่อ:\n",
        "นาย ทินราช เพ็งเภา 653020208-5"
      ]
    },
    {
      "cell_type": "markdown",
      "id": "475c076b",
      "metadata": {
        "id": "475c076b"
      },
      "source": [
        "กำหนดส่ง: อาทิตย์ 8 กันยายน 2567 (NO EXTENSION!)"
      ]
    },
    {
      "cell_type": "markdown",
      "id": "6d7668b9",
      "metadata": {
        "id": "6d7668b9"
      },
      "source": [
        "**ผลที่คาดหวังจากการทำงานนี้**\n",
        "* สามารถใช้ Python ในการอ่านข้อมูล\n",
        "* จัดการกับข้อมูลเบื้องต้นก่อนนำไปวิเคราะห์\n",
        "* สามารถวิเคราะห์ข้อมูลเบื้องต้นด้วยการสร้าง Data Visualization และ Pivot Tables\n",
        "\n",
        "**สิ่งที่ต้องมีในการทำงานนี้**\n",
        "* มีการติดตั้ง Python ในเครื่องคอมพิวเตอร์\n",
        "\n",
        "**Python libraries ที่ใช้ในงานนี้:**\n",
        "* Pandas (pandas.pydata.org)\n",
        "* Matplotlib (matplotlib.org)\n",
        "\n",
        "** NOTE **\n",
        "* อย่าลืมบันทึกงานที่ทำในโน้ตบุ๊คนี้เป็นประจำขณะทำงาน มิเช่นนั้นงานที่ทำอยู่อาจสูญหายได้\n",
        "* **เริ่มทำแต่เนิ่น ๆ อย่ารอที่จะทำก่อนส่ง เพราะจะทำไม่เสร็จ เนื่องจากปัญหามากมายที่จะเกิดขึ้นระหว่างการทำงาน และอาจารย์ไม่รับปรึกษาในคืนก่อนส่ง**\n",
        "----------------------"
      ]
    },
    {
      "cell_type": "code",
      "execution_count": 1,
      "id": "76bc1ee7",
      "metadata": {
        "id": "76bc1ee7"
      },
      "outputs": [],
      "source": [
        "\"\"\"\n",
        "หากไม่สามารถลง library ใด ให้ดาวน์โหลดดังตัวอย่างต่อไปนี้\n",
        "!pip3 install numpy\n",
        "\"\"\"\n",
        "from matplotlib import pyplot as plt\n",
        "import numpy as np\n",
        "import pandas as pd\n",
        "import seaborn as sns\n"
      ]
    },
    {
      "cell_type": "code",
      "source": [
        "\n",
        "# reading data sets from Google Drive\n",
        "from google.colab import drive\n",
        "drive.mount('/content/drive')\n"
      ],
      "metadata": {
        "id": "0UBoaQBpNK9N",
        "colab": {
          "base_uri": "https://localhost:8080/"
        },
        "outputId": "daaca570-cc52-4672-950f-1fcba971fbb8"
      },
      "id": "0UBoaQBpNK9N",
      "execution_count": 2,
      "outputs": [
        {
          "output_type": "stream",
          "name": "stdout",
          "text": [
            "Mounted at /content/drive\n"
          ]
        }
      ]
    },
    {
      "cell_type": "markdown",
      "id": "3dc6dd2d",
      "metadata": {
        "id": "3dc6dd2d"
      },
      "source": [
        "## Titanic Data Set\n",
        "* (10 points) ข้อมูล Titanic เป็นหนึ่งในชุดข้อมูลที่ได้รับความนิยมมากที่สุดในแวดวงการเรียนรู้การวิเคราะห์ข้อมูลและการสร้างโมเดลทางสถิติหรือการเรียนรู้ของเครื่อง (Machine Learning) ชุดข้อมูลนี้มาจากเหตุการณ์เรือ Titanic ซึ่งเป็นเรือสำราญที่ใหญ่ที่สุดในยุคนั้น และเกิดอับปางในปี 1912 ทำให้มีผู้เสียชีวิตจำนวนมาก\n",
        "    ข้อมูลนี้ประกอบด้วยรายละเอียดของผู้โดยสารบนเรือ Titanic เช่น อายุ เพศ ชั้นที่นั่ง (Pclass) ค่าโดยสาร (Fare) จำนวนญาติพี่น้องหรือคู่สมรสบนเรือ (SibSp) และสถานที่ขึ้นเรือ (Embarked) โดยมีเป้าหมายหลักในการวิเคราะห์หรือการสร้างโมเดลคือการทำนายว่าผู้โดยสารคนนั้นจะรอดชีวิต (Survived) หรือไม่จากการอับปางของเรือ Titanic \\\n",
        "    https://www.kaggle.com/datasets/vinicius150987/titanic3/data"
      ]
    },
    {
      "cell_type": "markdown",
      "source": [
        "<center><img src=\"https://www.pigeonforgetncabins.com/wp-content/uploads/2015/06/experience-at-titanic-pigeon-forge.jpg\" alt=\"titanic\" width=\"400\"/></center>"
      ],
      "metadata": {
        "id": "Z6Weqf0SNOBR"
      },
      "id": "Z6Weqf0SNOBR"
    },
    {
      "cell_type": "code",
      "execution_count": 3,
      "id": "b7b59426",
      "metadata": {
        "scrolled": true,
        "id": "b7b59426"
      },
      "outputs": [],
      "source": [
        "titanic = pd.read_excel('/content/drive/MyDrive/Big Data/titanic3.xls')"
      ]
    },
    {
      "cell_type": "code",
      "execution_count": 4,
      "id": "af90f726",
      "metadata": {
        "scrolled": false,
        "id": "af90f726",
        "outputId": "56a3bee3-2bc9-400a-acda-06e227fac8e7",
        "colab": {
          "base_uri": "https://localhost:8080/",
          "height": 423
        }
      },
      "outputs": [
        {
          "output_type": "execute_result",
          "data": {
            "text/plain": [
              "      pclass  survived                                             name  \\\n",
              "0          1         1                    Allen, Miss. Elisabeth Walton   \n",
              "1          1         1                   Allison, Master. Hudson Trevor   \n",
              "2          1         0                     Allison, Miss. Helen Loraine   \n",
              "3          1         0             Allison, Mr. Hudson Joshua Creighton   \n",
              "4          1         0  Allison, Mrs. Hudson J C (Bessie Waldo Daniels)   \n",
              "...      ...       ...                                              ...   \n",
              "1304       3         0                             Zabour, Miss. Hileni   \n",
              "1305       3         0                            Zabour, Miss. Thamine   \n",
              "1306       3         0                        Zakarian, Mr. Mapriededer   \n",
              "1307       3         0                              Zakarian, Mr. Ortin   \n",
              "1308       3         0                               Zimmerman, Mr. Leo   \n",
              "\n",
              "         sex      age  sibsp  parch  ticket      fare    cabin embarked boat  \\\n",
              "0     female  29.0000      0      0   24160  211.3375       B5        S    2   \n",
              "1       male   0.9167      1      2  113781  151.5500  C22 C26        S   11   \n",
              "2     female   2.0000      1      2  113781  151.5500  C22 C26        S  NaN   \n",
              "3       male  30.0000      1      2  113781  151.5500  C22 C26        S  NaN   \n",
              "4     female  25.0000      1      2  113781  151.5500  C22 C26        S  NaN   \n",
              "...      ...      ...    ...    ...     ...       ...      ...      ...  ...   \n",
              "1304  female  14.5000      1      0    2665   14.4542      NaN        C  NaN   \n",
              "1305  female      NaN      1      0    2665   14.4542      NaN        C  NaN   \n",
              "1306    male  26.5000      0      0    2656    7.2250      NaN        C  NaN   \n",
              "1307    male  27.0000      0      0    2670    7.2250      NaN        C  NaN   \n",
              "1308    male  29.0000      0      0  315082    7.8750      NaN        S  NaN   \n",
              "\n",
              "       body                        home.dest  \n",
              "0       NaN                     St Louis, MO  \n",
              "1       NaN  Montreal, PQ / Chesterville, ON  \n",
              "2       NaN  Montreal, PQ / Chesterville, ON  \n",
              "3     135.0  Montreal, PQ / Chesterville, ON  \n",
              "4       NaN  Montreal, PQ / Chesterville, ON  \n",
              "...     ...                              ...  \n",
              "1304  328.0                              NaN  \n",
              "1305    NaN                              NaN  \n",
              "1306  304.0                              NaN  \n",
              "1307    NaN                              NaN  \n",
              "1308    NaN                              NaN  \n",
              "\n",
              "[1309 rows x 14 columns]"
            ],
            "text/html": [
              "\n",
              "  <div id=\"df-871b28ae-aef8-4f36-a095-c868e17a7bfc\" class=\"colab-df-container\">\n",
              "    <div>\n",
              "<style scoped>\n",
              "    .dataframe tbody tr th:only-of-type {\n",
              "        vertical-align: middle;\n",
              "    }\n",
              "\n",
              "    .dataframe tbody tr th {\n",
              "        vertical-align: top;\n",
              "    }\n",
              "\n",
              "    .dataframe thead th {\n",
              "        text-align: right;\n",
              "    }\n",
              "</style>\n",
              "<table border=\"1\" class=\"dataframe\">\n",
              "  <thead>\n",
              "    <tr style=\"text-align: right;\">\n",
              "      <th></th>\n",
              "      <th>pclass</th>\n",
              "      <th>survived</th>\n",
              "      <th>name</th>\n",
              "      <th>sex</th>\n",
              "      <th>age</th>\n",
              "      <th>sibsp</th>\n",
              "      <th>parch</th>\n",
              "      <th>ticket</th>\n",
              "      <th>fare</th>\n",
              "      <th>cabin</th>\n",
              "      <th>embarked</th>\n",
              "      <th>boat</th>\n",
              "      <th>body</th>\n",
              "      <th>home.dest</th>\n",
              "    </tr>\n",
              "  </thead>\n",
              "  <tbody>\n",
              "    <tr>\n",
              "      <th>0</th>\n",
              "      <td>1</td>\n",
              "      <td>1</td>\n",
              "      <td>Allen, Miss. Elisabeth Walton</td>\n",
              "      <td>female</td>\n",
              "      <td>29.0000</td>\n",
              "      <td>0</td>\n",
              "      <td>0</td>\n",
              "      <td>24160</td>\n",
              "      <td>211.3375</td>\n",
              "      <td>B5</td>\n",
              "      <td>S</td>\n",
              "      <td>2</td>\n",
              "      <td>NaN</td>\n",
              "      <td>St Louis, MO</td>\n",
              "    </tr>\n",
              "    <tr>\n",
              "      <th>1</th>\n",
              "      <td>1</td>\n",
              "      <td>1</td>\n",
              "      <td>Allison, Master. Hudson Trevor</td>\n",
              "      <td>male</td>\n",
              "      <td>0.9167</td>\n",
              "      <td>1</td>\n",
              "      <td>2</td>\n",
              "      <td>113781</td>\n",
              "      <td>151.5500</td>\n",
              "      <td>C22 C26</td>\n",
              "      <td>S</td>\n",
              "      <td>11</td>\n",
              "      <td>NaN</td>\n",
              "      <td>Montreal, PQ / Chesterville, ON</td>\n",
              "    </tr>\n",
              "    <tr>\n",
              "      <th>2</th>\n",
              "      <td>1</td>\n",
              "      <td>0</td>\n",
              "      <td>Allison, Miss. Helen Loraine</td>\n",
              "      <td>female</td>\n",
              "      <td>2.0000</td>\n",
              "      <td>1</td>\n",
              "      <td>2</td>\n",
              "      <td>113781</td>\n",
              "      <td>151.5500</td>\n",
              "      <td>C22 C26</td>\n",
              "      <td>S</td>\n",
              "      <td>NaN</td>\n",
              "      <td>NaN</td>\n",
              "      <td>Montreal, PQ / Chesterville, ON</td>\n",
              "    </tr>\n",
              "    <tr>\n",
              "      <th>3</th>\n",
              "      <td>1</td>\n",
              "      <td>0</td>\n",
              "      <td>Allison, Mr. Hudson Joshua Creighton</td>\n",
              "      <td>male</td>\n",
              "      <td>30.0000</td>\n",
              "      <td>1</td>\n",
              "      <td>2</td>\n",
              "      <td>113781</td>\n",
              "      <td>151.5500</td>\n",
              "      <td>C22 C26</td>\n",
              "      <td>S</td>\n",
              "      <td>NaN</td>\n",
              "      <td>135.0</td>\n",
              "      <td>Montreal, PQ / Chesterville, ON</td>\n",
              "    </tr>\n",
              "    <tr>\n",
              "      <th>4</th>\n",
              "      <td>1</td>\n",
              "      <td>0</td>\n",
              "      <td>Allison, Mrs. Hudson J C (Bessie Waldo Daniels)</td>\n",
              "      <td>female</td>\n",
              "      <td>25.0000</td>\n",
              "      <td>1</td>\n",
              "      <td>2</td>\n",
              "      <td>113781</td>\n",
              "      <td>151.5500</td>\n",
              "      <td>C22 C26</td>\n",
              "      <td>S</td>\n",
              "      <td>NaN</td>\n",
              "      <td>NaN</td>\n",
              "      <td>Montreal, PQ / Chesterville, ON</td>\n",
              "    </tr>\n",
              "    <tr>\n",
              "      <th>...</th>\n",
              "      <td>...</td>\n",
              "      <td>...</td>\n",
              "      <td>...</td>\n",
              "      <td>...</td>\n",
              "      <td>...</td>\n",
              "      <td>...</td>\n",
              "      <td>...</td>\n",
              "      <td>...</td>\n",
              "      <td>...</td>\n",
              "      <td>...</td>\n",
              "      <td>...</td>\n",
              "      <td>...</td>\n",
              "      <td>...</td>\n",
              "      <td>...</td>\n",
              "    </tr>\n",
              "    <tr>\n",
              "      <th>1304</th>\n",
              "      <td>3</td>\n",
              "      <td>0</td>\n",
              "      <td>Zabour, Miss. Hileni</td>\n",
              "      <td>female</td>\n",
              "      <td>14.5000</td>\n",
              "      <td>1</td>\n",
              "      <td>0</td>\n",
              "      <td>2665</td>\n",
              "      <td>14.4542</td>\n",
              "      <td>NaN</td>\n",
              "      <td>C</td>\n",
              "      <td>NaN</td>\n",
              "      <td>328.0</td>\n",
              "      <td>NaN</td>\n",
              "    </tr>\n",
              "    <tr>\n",
              "      <th>1305</th>\n",
              "      <td>3</td>\n",
              "      <td>0</td>\n",
              "      <td>Zabour, Miss. Thamine</td>\n",
              "      <td>female</td>\n",
              "      <td>NaN</td>\n",
              "      <td>1</td>\n",
              "      <td>0</td>\n",
              "      <td>2665</td>\n",
              "      <td>14.4542</td>\n",
              "      <td>NaN</td>\n",
              "      <td>C</td>\n",
              "      <td>NaN</td>\n",
              "      <td>NaN</td>\n",
              "      <td>NaN</td>\n",
              "    </tr>\n",
              "    <tr>\n",
              "      <th>1306</th>\n",
              "      <td>3</td>\n",
              "      <td>0</td>\n",
              "      <td>Zakarian, Mr. Mapriededer</td>\n",
              "      <td>male</td>\n",
              "      <td>26.5000</td>\n",
              "      <td>0</td>\n",
              "      <td>0</td>\n",
              "      <td>2656</td>\n",
              "      <td>7.2250</td>\n",
              "      <td>NaN</td>\n",
              "      <td>C</td>\n",
              "      <td>NaN</td>\n",
              "      <td>304.0</td>\n",
              "      <td>NaN</td>\n",
              "    </tr>\n",
              "    <tr>\n",
              "      <th>1307</th>\n",
              "      <td>3</td>\n",
              "      <td>0</td>\n",
              "      <td>Zakarian, Mr. Ortin</td>\n",
              "      <td>male</td>\n",
              "      <td>27.0000</td>\n",
              "      <td>0</td>\n",
              "      <td>0</td>\n",
              "      <td>2670</td>\n",
              "      <td>7.2250</td>\n",
              "      <td>NaN</td>\n",
              "      <td>C</td>\n",
              "      <td>NaN</td>\n",
              "      <td>NaN</td>\n",
              "      <td>NaN</td>\n",
              "    </tr>\n",
              "    <tr>\n",
              "      <th>1308</th>\n",
              "      <td>3</td>\n",
              "      <td>0</td>\n",
              "      <td>Zimmerman, Mr. Leo</td>\n",
              "      <td>male</td>\n",
              "      <td>29.0000</td>\n",
              "      <td>0</td>\n",
              "      <td>0</td>\n",
              "      <td>315082</td>\n",
              "      <td>7.8750</td>\n",
              "      <td>NaN</td>\n",
              "      <td>S</td>\n",
              "      <td>NaN</td>\n",
              "      <td>NaN</td>\n",
              "      <td>NaN</td>\n",
              "    </tr>\n",
              "  </tbody>\n",
              "</table>\n",
              "<p>1309 rows × 14 columns</p>\n",
              "</div>\n",
              "    <div class=\"colab-df-buttons\">\n",
              "\n",
              "  <div class=\"colab-df-container\">\n",
              "    <button class=\"colab-df-convert\" onclick=\"convertToInteractive('df-871b28ae-aef8-4f36-a095-c868e17a7bfc')\"\n",
              "            title=\"Convert this dataframe to an interactive table.\"\n",
              "            style=\"display:none;\">\n",
              "\n",
              "  <svg xmlns=\"http://www.w3.org/2000/svg\" height=\"24px\" viewBox=\"0 -960 960 960\">\n",
              "    <path d=\"M120-120v-720h720v720H120Zm60-500h600v-160H180v160Zm220 220h160v-160H400v160Zm0 220h160v-160H400v160ZM180-400h160v-160H180v160Zm440 0h160v-160H620v160ZM180-180h160v-160H180v160Zm440 0h160v-160H620v160Z\"/>\n",
              "  </svg>\n",
              "    </button>\n",
              "\n",
              "  <style>\n",
              "    .colab-df-container {\n",
              "      display:flex;\n",
              "      gap: 12px;\n",
              "    }\n",
              "\n",
              "    .colab-df-convert {\n",
              "      background-color: #E8F0FE;\n",
              "      border: none;\n",
              "      border-radius: 50%;\n",
              "      cursor: pointer;\n",
              "      display: none;\n",
              "      fill: #1967D2;\n",
              "      height: 32px;\n",
              "      padding: 0 0 0 0;\n",
              "      width: 32px;\n",
              "    }\n",
              "\n",
              "    .colab-df-convert:hover {\n",
              "      background-color: #E2EBFA;\n",
              "      box-shadow: 0px 1px 2px rgba(60, 64, 67, 0.3), 0px 1px 3px 1px rgba(60, 64, 67, 0.15);\n",
              "      fill: #174EA6;\n",
              "    }\n",
              "\n",
              "    .colab-df-buttons div {\n",
              "      margin-bottom: 4px;\n",
              "    }\n",
              "\n",
              "    [theme=dark] .colab-df-convert {\n",
              "      background-color: #3B4455;\n",
              "      fill: #D2E3FC;\n",
              "    }\n",
              "\n",
              "    [theme=dark] .colab-df-convert:hover {\n",
              "      background-color: #434B5C;\n",
              "      box-shadow: 0px 1px 3px 1px rgba(0, 0, 0, 0.15);\n",
              "      filter: drop-shadow(0px 1px 2px rgba(0, 0, 0, 0.3));\n",
              "      fill: #FFFFFF;\n",
              "    }\n",
              "  </style>\n",
              "\n",
              "    <script>\n",
              "      const buttonEl =\n",
              "        document.querySelector('#df-871b28ae-aef8-4f36-a095-c868e17a7bfc button.colab-df-convert');\n",
              "      buttonEl.style.display =\n",
              "        google.colab.kernel.accessAllowed ? 'block' : 'none';\n",
              "\n",
              "      async function convertToInteractive(key) {\n",
              "        const element = document.querySelector('#df-871b28ae-aef8-4f36-a095-c868e17a7bfc');\n",
              "        const dataTable =\n",
              "          await google.colab.kernel.invokeFunction('convertToInteractive',\n",
              "                                                    [key], {});\n",
              "        if (!dataTable) return;\n",
              "\n",
              "        const docLinkHtml = 'Like what you see? Visit the ' +\n",
              "          '<a target=\"_blank\" href=https://colab.research.google.com/notebooks/data_table.ipynb>data table notebook</a>'\n",
              "          + ' to learn more about interactive tables.';\n",
              "        element.innerHTML = '';\n",
              "        dataTable['output_type'] = 'display_data';\n",
              "        await google.colab.output.renderOutput(dataTable, element);\n",
              "        const docLink = document.createElement('div');\n",
              "        docLink.innerHTML = docLinkHtml;\n",
              "        element.appendChild(docLink);\n",
              "      }\n",
              "    </script>\n",
              "  </div>\n",
              "\n",
              "\n",
              "<div id=\"df-4f1b83a3-3120-472f-9b34-c82efacedfd8\">\n",
              "  <button class=\"colab-df-quickchart\" onclick=\"quickchart('df-4f1b83a3-3120-472f-9b34-c82efacedfd8')\"\n",
              "            title=\"Suggest charts\"\n",
              "            style=\"display:none;\">\n",
              "\n",
              "<svg xmlns=\"http://www.w3.org/2000/svg\" height=\"24px\"viewBox=\"0 0 24 24\"\n",
              "     width=\"24px\">\n",
              "    <g>\n",
              "        <path d=\"M19 3H5c-1.1 0-2 .9-2 2v14c0 1.1.9 2 2 2h14c1.1 0 2-.9 2-2V5c0-1.1-.9-2-2-2zM9 17H7v-7h2v7zm4 0h-2V7h2v10zm4 0h-2v-4h2v4z\"/>\n",
              "    </g>\n",
              "</svg>\n",
              "  </button>\n",
              "\n",
              "<style>\n",
              "  .colab-df-quickchart {\n",
              "      --bg-color: #E8F0FE;\n",
              "      --fill-color: #1967D2;\n",
              "      --hover-bg-color: #E2EBFA;\n",
              "      --hover-fill-color: #174EA6;\n",
              "      --disabled-fill-color: #AAA;\n",
              "      --disabled-bg-color: #DDD;\n",
              "  }\n",
              "\n",
              "  [theme=dark] .colab-df-quickchart {\n",
              "      --bg-color: #3B4455;\n",
              "      --fill-color: #D2E3FC;\n",
              "      --hover-bg-color: #434B5C;\n",
              "      --hover-fill-color: #FFFFFF;\n",
              "      --disabled-bg-color: #3B4455;\n",
              "      --disabled-fill-color: #666;\n",
              "  }\n",
              "\n",
              "  .colab-df-quickchart {\n",
              "    background-color: var(--bg-color);\n",
              "    border: none;\n",
              "    border-radius: 50%;\n",
              "    cursor: pointer;\n",
              "    display: none;\n",
              "    fill: var(--fill-color);\n",
              "    height: 32px;\n",
              "    padding: 0;\n",
              "    width: 32px;\n",
              "  }\n",
              "\n",
              "  .colab-df-quickchart:hover {\n",
              "    background-color: var(--hover-bg-color);\n",
              "    box-shadow: 0 1px 2px rgba(60, 64, 67, 0.3), 0 1px 3px 1px rgba(60, 64, 67, 0.15);\n",
              "    fill: var(--button-hover-fill-color);\n",
              "  }\n",
              "\n",
              "  .colab-df-quickchart-complete:disabled,\n",
              "  .colab-df-quickchart-complete:disabled:hover {\n",
              "    background-color: var(--disabled-bg-color);\n",
              "    fill: var(--disabled-fill-color);\n",
              "    box-shadow: none;\n",
              "  }\n",
              "\n",
              "  .colab-df-spinner {\n",
              "    border: 2px solid var(--fill-color);\n",
              "    border-color: transparent;\n",
              "    border-bottom-color: var(--fill-color);\n",
              "    animation:\n",
              "      spin 1s steps(1) infinite;\n",
              "  }\n",
              "\n",
              "  @keyframes spin {\n",
              "    0% {\n",
              "      border-color: transparent;\n",
              "      border-bottom-color: var(--fill-color);\n",
              "      border-left-color: var(--fill-color);\n",
              "    }\n",
              "    20% {\n",
              "      border-color: transparent;\n",
              "      border-left-color: var(--fill-color);\n",
              "      border-top-color: var(--fill-color);\n",
              "    }\n",
              "    30% {\n",
              "      border-color: transparent;\n",
              "      border-left-color: var(--fill-color);\n",
              "      border-top-color: var(--fill-color);\n",
              "      border-right-color: var(--fill-color);\n",
              "    }\n",
              "    40% {\n",
              "      border-color: transparent;\n",
              "      border-right-color: var(--fill-color);\n",
              "      border-top-color: var(--fill-color);\n",
              "    }\n",
              "    60% {\n",
              "      border-color: transparent;\n",
              "      border-right-color: var(--fill-color);\n",
              "    }\n",
              "    80% {\n",
              "      border-color: transparent;\n",
              "      border-right-color: var(--fill-color);\n",
              "      border-bottom-color: var(--fill-color);\n",
              "    }\n",
              "    90% {\n",
              "      border-color: transparent;\n",
              "      border-bottom-color: var(--fill-color);\n",
              "    }\n",
              "  }\n",
              "</style>\n",
              "\n",
              "  <script>\n",
              "    async function quickchart(key) {\n",
              "      const quickchartButtonEl =\n",
              "        document.querySelector('#' + key + ' button');\n",
              "      quickchartButtonEl.disabled = true;  // To prevent multiple clicks.\n",
              "      quickchartButtonEl.classList.add('colab-df-spinner');\n",
              "      try {\n",
              "        const charts = await google.colab.kernel.invokeFunction(\n",
              "            'suggestCharts', [key], {});\n",
              "      } catch (error) {\n",
              "        console.error('Error during call to suggestCharts:', error);\n",
              "      }\n",
              "      quickchartButtonEl.classList.remove('colab-df-spinner');\n",
              "      quickchartButtonEl.classList.add('colab-df-quickchart-complete');\n",
              "    }\n",
              "    (() => {\n",
              "      let quickchartButtonEl =\n",
              "        document.querySelector('#df-4f1b83a3-3120-472f-9b34-c82efacedfd8 button');\n",
              "      quickchartButtonEl.style.display =\n",
              "        google.colab.kernel.accessAllowed ? 'block' : 'none';\n",
              "    })();\n",
              "  </script>\n",
              "</div>\n",
              "\n",
              "  <div id=\"id_0cfe9f65-8250-4a9b-950d-b8df4c5bbff0\">\n",
              "    <style>\n",
              "      .colab-df-generate {\n",
              "        background-color: #E8F0FE;\n",
              "        border: none;\n",
              "        border-radius: 50%;\n",
              "        cursor: pointer;\n",
              "        display: none;\n",
              "        fill: #1967D2;\n",
              "        height: 32px;\n",
              "        padding: 0 0 0 0;\n",
              "        width: 32px;\n",
              "      }\n",
              "\n",
              "      .colab-df-generate:hover {\n",
              "        background-color: #E2EBFA;\n",
              "        box-shadow: 0px 1px 2px rgba(60, 64, 67, 0.3), 0px 1px 3px 1px rgba(60, 64, 67, 0.15);\n",
              "        fill: #174EA6;\n",
              "      }\n",
              "\n",
              "      [theme=dark] .colab-df-generate {\n",
              "        background-color: #3B4455;\n",
              "        fill: #D2E3FC;\n",
              "      }\n",
              "\n",
              "      [theme=dark] .colab-df-generate:hover {\n",
              "        background-color: #434B5C;\n",
              "        box-shadow: 0px 1px 3px 1px rgba(0, 0, 0, 0.15);\n",
              "        filter: drop-shadow(0px 1px 2px rgba(0, 0, 0, 0.3));\n",
              "        fill: #FFFFFF;\n",
              "      }\n",
              "    </style>\n",
              "    <button class=\"colab-df-generate\" onclick=\"generateWithVariable('titanic')\"\n",
              "            title=\"Generate code using this dataframe.\"\n",
              "            style=\"display:none;\">\n",
              "\n",
              "  <svg xmlns=\"http://www.w3.org/2000/svg\" height=\"24px\"viewBox=\"0 0 24 24\"\n",
              "       width=\"24px\">\n",
              "    <path d=\"M7,19H8.4L18.45,9,17,7.55,7,17.6ZM5,21V16.75L18.45,3.32a2,2,0,0,1,2.83,0l1.4,1.43a1.91,1.91,0,0,1,.58,1.4,1.91,1.91,0,0,1-.58,1.4L9.25,21ZM18.45,9,17,7.55Zm-12,3A5.31,5.31,0,0,0,4.9,8.1,5.31,5.31,0,0,0,1,6.5,5.31,5.31,0,0,0,4.9,4.9,5.31,5.31,0,0,0,6.5,1,5.31,5.31,0,0,0,8.1,4.9,5.31,5.31,0,0,0,12,6.5,5.46,5.46,0,0,0,6.5,12Z\"/>\n",
              "  </svg>\n",
              "    </button>\n",
              "    <script>\n",
              "      (() => {\n",
              "      const buttonEl =\n",
              "        document.querySelector('#id_0cfe9f65-8250-4a9b-950d-b8df4c5bbff0 button.colab-df-generate');\n",
              "      buttonEl.style.display =\n",
              "        google.colab.kernel.accessAllowed ? 'block' : 'none';\n",
              "\n",
              "      buttonEl.onclick = () => {\n",
              "        google.colab.notebook.generateWithVariable('titanic');\n",
              "      }\n",
              "      })();\n",
              "    </script>\n",
              "  </div>\n",
              "\n",
              "    </div>\n",
              "  </div>\n"
            ],
            "application/vnd.google.colaboratory.intrinsic+json": {
              "type": "dataframe",
              "variable_name": "titanic",
              "summary": "{\n  \"name\": \"titanic\",\n  \"rows\": 1309,\n  \"fields\": [\n    {\n      \"column\": \"pclass\",\n      \"properties\": {\n        \"dtype\": \"number\",\n        \"std\": 0,\n        \"min\": 1,\n        \"max\": 3,\n        \"num_unique_values\": 3,\n        \"samples\": [\n          1,\n          2,\n          3\n        ],\n        \"semantic_type\": \"\",\n        \"description\": \"\"\n      }\n    },\n    {\n      \"column\": \"survived\",\n      \"properties\": {\n        \"dtype\": \"number\",\n        \"std\": 0,\n        \"min\": 0,\n        \"max\": 1,\n        \"num_unique_values\": 2,\n        \"samples\": [\n          0,\n          1\n        ],\n        \"semantic_type\": \"\",\n        \"description\": \"\"\n      }\n    },\n    {\n      \"column\": \"name\",\n      \"properties\": {\n        \"dtype\": \"string\",\n        \"num_unique_values\": 1307,\n        \"samples\": [\n          \"Saade, Mr. Jean Nassr\",\n          \"Nakid, Mr. Sahid\"\n        ],\n        \"semantic_type\": \"\",\n        \"description\": \"\"\n      }\n    },\n    {\n      \"column\": \"sex\",\n      \"properties\": {\n        \"dtype\": \"category\",\n        \"num_unique_values\": 2,\n        \"samples\": [\n          \"male\",\n          \"female\"\n        ],\n        \"semantic_type\": \"\",\n        \"description\": \"\"\n      }\n    },\n    {\n      \"column\": \"age\",\n      \"properties\": {\n        \"dtype\": \"number\",\n        \"std\": 14.413499699923602,\n        \"min\": 0.1667,\n        \"max\": 80.0,\n        \"num_unique_values\": 98,\n        \"samples\": [\n          57.0,\n          55.0\n        ],\n        \"semantic_type\": \"\",\n        \"description\": \"\"\n      }\n    },\n    {\n      \"column\": \"sibsp\",\n      \"properties\": {\n        \"dtype\": \"number\",\n        \"std\": 1,\n        \"min\": 0,\n        \"max\": 8,\n        \"num_unique_values\": 7,\n        \"samples\": [\n          0,\n          1\n        ],\n        \"semantic_type\": \"\",\n        \"description\": \"\"\n      }\n    },\n    {\n      \"column\": \"parch\",\n      \"properties\": {\n        \"dtype\": \"number\",\n        \"std\": 0,\n        \"min\": 0,\n        \"max\": 9,\n        \"num_unique_values\": 8,\n        \"samples\": [\n          2,\n          5\n        ],\n        \"semantic_type\": \"\",\n        \"description\": \"\"\n      }\n    },\n    {\n      \"column\": \"ticket\",\n      \"properties\": {\n        \"dtype\": \"string\",\n        \"num_unique_values\": 939,\n        \"samples\": [\n          \"223596\",\n          33638\n        ],\n        \"semantic_type\": \"\",\n        \"description\": \"\"\n      }\n    },\n    {\n      \"column\": \"fare\",\n      \"properties\": {\n        \"dtype\": \"number\",\n        \"std\": 51.75866823917411,\n        \"min\": 0.0,\n        \"max\": 512.3292,\n        \"num_unique_values\": 281,\n        \"samples\": [\n          5.0,\n          9.35\n        ],\n        \"semantic_type\": \"\",\n        \"description\": \"\"\n      }\n    },\n    {\n      \"column\": \"cabin\",\n      \"properties\": {\n        \"dtype\": \"category\",\n        \"num_unique_values\": 186,\n        \"samples\": [\n          \"C90\",\n          \"C80\"\n        ],\n        \"semantic_type\": \"\",\n        \"description\": \"\"\n      }\n    },\n    {\n      \"column\": \"embarked\",\n      \"properties\": {\n        \"dtype\": \"category\",\n        \"num_unique_values\": 3,\n        \"samples\": [\n          \"S\",\n          \"C\"\n        ],\n        \"semantic_type\": \"\",\n        \"description\": \"\"\n      }\n    },\n    {\n      \"column\": \"boat\",\n      \"properties\": {\n        \"dtype\": \"category\",\n        \"num_unique_values\": 28,\n        \"samples\": [\n          \"8\",\n          \"C D\"\n        ],\n        \"semantic_type\": \"\",\n        \"description\": \"\"\n      }\n    },\n    {\n      \"column\": \"body\",\n      \"properties\": {\n        \"dtype\": \"number\",\n        \"std\": 97.6969219960031,\n        \"min\": 1.0,\n        \"max\": 328.0,\n        \"num_unique_values\": 121,\n        \"samples\": [\n          297.0,\n          19.0\n        ],\n        \"semantic_type\": \"\",\n        \"description\": \"\"\n      }\n    },\n    {\n      \"column\": \"home.dest\",\n      \"properties\": {\n        \"dtype\": \"category\",\n        \"num_unique_values\": 369,\n        \"samples\": [\n          \"Co Limerick, Ireland Sherbrooke, PQ\",\n          \"Amenia, ND\"\n        ],\n        \"semantic_type\": \"\",\n        \"description\": \"\"\n      }\n    }\n  ]\n}"
            }
          },
          "metadata": {},
          "execution_count": 4
        }
      ],
      "source": [
        "titanic"
      ]
    },
    {
      "cell_type": "markdown",
      "id": "bbf2b515",
      "metadata": {
        "id": "bbf2b515"
      },
      "source": [
        "* (10 points) จากข้อมูลที่ให้มา มีค่าว่างสูญหายมากน้อยแค่ไหน? และมีค่าผิดปกติ (outliers) และหรือข้อมูลรบกวน (noisy data) หรือไม่ในแต่ละตัวแปร?"
      ]
    },
    {
      "cell_type": "code",
      "execution_count": 5,
      "id": "d37ba336",
      "metadata": {
        "id": "d37ba336",
        "colab": {
          "base_uri": "https://localhost:8080/",
          "height": 523
        },
        "outputId": "b589347d-1e67-4293-8df5-209242f35733"
      },
      "outputs": [
        {
          "output_type": "execute_result",
          "data": {
            "text/plain": [
              "pclass          0\n",
              "survived        0\n",
              "name            0\n",
              "sex             0\n",
              "age           263\n",
              "sibsp           0\n",
              "parch           0\n",
              "ticket          0\n",
              "fare            1\n",
              "cabin        1014\n",
              "embarked        2\n",
              "boat          823\n",
              "body         1188\n",
              "home.dest     564\n",
              "dtype: int64"
            ],
            "text/html": [
              "<div>\n",
              "<style scoped>\n",
              "    .dataframe tbody tr th:only-of-type {\n",
              "        vertical-align: middle;\n",
              "    }\n",
              "\n",
              "    .dataframe tbody tr th {\n",
              "        vertical-align: top;\n",
              "    }\n",
              "\n",
              "    .dataframe thead th {\n",
              "        text-align: right;\n",
              "    }\n",
              "</style>\n",
              "<table border=\"1\" class=\"dataframe\">\n",
              "  <thead>\n",
              "    <tr style=\"text-align: right;\">\n",
              "      <th></th>\n",
              "      <th>0</th>\n",
              "    </tr>\n",
              "  </thead>\n",
              "  <tbody>\n",
              "    <tr>\n",
              "      <th>pclass</th>\n",
              "      <td>0</td>\n",
              "    </tr>\n",
              "    <tr>\n",
              "      <th>survived</th>\n",
              "      <td>0</td>\n",
              "    </tr>\n",
              "    <tr>\n",
              "      <th>name</th>\n",
              "      <td>0</td>\n",
              "    </tr>\n",
              "    <tr>\n",
              "      <th>sex</th>\n",
              "      <td>0</td>\n",
              "    </tr>\n",
              "    <tr>\n",
              "      <th>age</th>\n",
              "      <td>263</td>\n",
              "    </tr>\n",
              "    <tr>\n",
              "      <th>sibsp</th>\n",
              "      <td>0</td>\n",
              "    </tr>\n",
              "    <tr>\n",
              "      <th>parch</th>\n",
              "      <td>0</td>\n",
              "    </tr>\n",
              "    <tr>\n",
              "      <th>ticket</th>\n",
              "      <td>0</td>\n",
              "    </tr>\n",
              "    <tr>\n",
              "      <th>fare</th>\n",
              "      <td>1</td>\n",
              "    </tr>\n",
              "    <tr>\n",
              "      <th>cabin</th>\n",
              "      <td>1014</td>\n",
              "    </tr>\n",
              "    <tr>\n",
              "      <th>embarked</th>\n",
              "      <td>2</td>\n",
              "    </tr>\n",
              "    <tr>\n",
              "      <th>boat</th>\n",
              "      <td>823</td>\n",
              "    </tr>\n",
              "    <tr>\n",
              "      <th>body</th>\n",
              "      <td>1188</td>\n",
              "    </tr>\n",
              "    <tr>\n",
              "      <th>home.dest</th>\n",
              "      <td>564</td>\n",
              "    </tr>\n",
              "  </tbody>\n",
              "</table>\n",
              "</div><br><label><b>dtype:</b> int64</label>"
            ]
          },
          "metadata": {},
          "execution_count": 5
        }
      ],
      "source": [
        "\n",
        "# ตรวจสอบค่าว่าง\n",
        "missing_values = titanic.isnull().sum()\n",
        "missing_values"
      ]
    },
    {
      "cell_type": "code",
      "source": [
        "# ตรวจสอบค่าผิดปกติด้วย boxplot สำหรับ Age และ Fare\n",
        "plt.figure(figsize=(12,6))\n",
        "\n",
        "plt.subplot(1, 2, 1)\n",
        "sns.boxplot(data=titanic, y='age')\n",
        "plt.title('Age Boxplot')\n",
        "\n",
        "plt.subplot(1, 2, 2)\n",
        "sns.boxplot(data=titanic, y='fare')\n",
        "plt.title('Fare Boxplot')\n",
        "\n",
        "plt.tight_layout()\n",
        "plt.show()\n",
        "\n"
      ],
      "metadata": {
        "colab": {
          "base_uri": "https://localhost:8080/",
          "height": 607
        },
        "id": "LlrOrbXJEPu7",
        "outputId": "7cdecf99-b849-46be-9737-18ceb8d8ba40"
      },
      "id": "LlrOrbXJEPu7",
      "execution_count": 6,
      "outputs": [
        {
          "output_type": "display_data",
          "data": {
            "text/plain": [
              "<Figure size 1200x600 with 2 Axes>"
            ],
            "image/png": "[encoded data removed]"
          },
          "metadata": {}
        }
      ]
    },
    {
      "cell_type": "code",
      "source": [
        "# ตรวจสอบสถิติเบื้องต้น\n",
        "print(titanic.describe())"
      ],
      "metadata": {
        "colab": {
          "base_uri": "https://localhost:8080/"
        },
        "id": "Y2kGCNL5E3yO",
        "outputId": "fa3a40e2-05be-4097-bb93-b109a1023c2b"
      },
      "id": "Y2kGCNL5E3yO",
      "execution_count": 7,
      "outputs": [
        {
          "output_type": "stream",
          "name": "stdout",
          "text": [
            "            pclass     survived          age        sibsp        parch  \\\n",
            "count  1309.000000  1309.000000  1046.000000  1309.000000  1309.000000   \n",
            "mean      2.294882     0.381971    29.881135     0.498854     0.385027   \n",
            "std       0.837836     0.486055    14.413500     1.041658     0.865560   \n",
            "min       1.000000     0.000000     0.166700     0.000000     0.000000   \n",
            "25%       2.000000     0.000000    21.000000     0.000000     0.000000   \n",
            "50%       3.000000     0.000000    28.000000     0.000000     0.000000   \n",
            "75%       3.000000     1.000000    39.000000     1.000000     0.000000   \n",
            "max       3.000000     1.000000    80.000000     8.000000     9.000000   \n",
            "\n",
            "              fare        body  \n",
            "count  1308.000000  121.000000  \n",
            "mean     33.295479  160.809917  \n",
            "std      51.758668   97.696922  \n",
            "min       0.000000    1.000000  \n",
            "25%       7.895800   72.000000  \n",
            "50%      14.454200  155.000000  \n",
            "75%      31.275000  256.000000  \n",
            "max     512.329200  328.000000  \n"
          ]
        }
      ]
    },
    {
      "cell_type": "markdown",
      "id": "f47f1535",
      "metadata": {
        "id": "f47f1535"
      },
      "source": [
        "* (10 points) จากข้อมูลที่ให้มา เตรียมข้อมูลให้พร้อมโดยการจัดการกับค่าว่างในข้อมูล ให้อธิบายวิธีที่ท่านเลือกใช้ พร้อมยกเหตุผลประกอบ"
      ]
    },
    {
      "cell_type": "code",
      "execution_count": 8,
      "id": "668fb6e9",
      "metadata": {
        "id": "668fb6e9",
        "colab": {
          "base_uri": "https://localhost:8080/"
        },
        "outputId": "31efce99-b981-4c4c-99fd-9f1ab03b41db"
      },
      "outputs": [
        {
          "output_type": "stream",
          "name": "stdout",
          "text": [
            "pclass       0\n",
            "survived     0\n",
            "name         0\n",
            "sex          0\n",
            "age          0\n",
            "sibsp        0\n",
            "parch        0\n",
            "ticket       0\n",
            "fare         0\n",
            "embarked     0\n",
            "boat         0\n",
            "home.dest    0\n",
            "dtype: int64\n"
          ]
        }
      ],
      "source": [
        "# ลบคอลัมน์ที่ไม่ต้องการ\n",
        "titanic.drop(columns=['cabin', 'body'], inplace=True)\n",
        "\n",
        "# เติมค่าใน age ด้วยค่า median ใช้การเติมค่าเฉลี่ย (mean) หรือมัธยฐาน (median) เนื่องจากเป็นข้อมูลเชิงตัวเลขที่สำคัญในการวิเคราะห์\n",
        "#เหตุผล: การเติมค่าด้วยค่าเฉลี่ย/มัธยฐานจะช่วยให้ข้อมูลมีความสอดคล้องกับตัวอย่างที่มีอยู่โดยไม่เสียแนวโน้มหลักของข้อมูล\n",
        "titanic['age'].fillna(titanic['age'].median(), inplace=True)\n",
        "\n",
        "#วิธีการ: เติมค่าด้วยค่าเฉลี่ยหรือมัธยฐาน\n",
        "#เหตุผล: ค่าว่างน้อยมาก ดังนั้นการเติมค่าด้วยค่าเฉลี่ยหรือมัธยฐานจะไม่ส่งผลกระทบต่อการวิเคราะห์\n",
        "# เติมค่าใน fare ด้วยค่า median\n",
        "titanic['fare'].fillna(titanic['fare'].median(), inplace=True)\n",
        "\n",
        "# เติมค่าใน embarked ด้วยค่าที่พบบ่อยที่สุด (mode)\n",
        "#วิธีการ: เติมค่าด้วยค่าที่พบบ่อยที่สุด\n",
        "#เหตุผล: มีค่าว่างน้อยมาก และการเติมค่าด้วย mode จะช่วยรักษาความสอดคล้องกับข้อมูลจริง\n",
        "titanic['embarked'].fillna(titanic['embarked'].mode()[0], inplace=True)\n",
        "\n",
        "# เติมค่าใน boat และ home.dest ด้วย 'Unknown'\n",
        "#วิธีการ: ขึ้นอยู่กับเป้าหมายการวิเคราะห์\n",
        "#ถ้าใช้ในการทำนายหรือวิเคราะห์การรอดชีวิต: ควรเก็บคอลัมน์นี้ไว้และพิจารณาเติมค่าว่างด้วย 'Unknown'\n",
        "#ถ้าไม่สำคัญต่อการวิเคราะห์: สามารถลบคอลัมน์นี้ออก\n",
        "# เหตุผล: ข้อมูลการใช้เรือชูชีพมีผลต่อการรอดชีวิต แต่เนื่องจากมีค่าว่างมาก จึงอาจเลือกเติมค่าเป็น 'Unknown' หรือถ้าไม่ใช้ก็ลบได้\n",
        "titanic['boat'].fillna('Unknown', inplace=True)\n",
        "titanic['home.dest'].fillna('Unknown', inplace=True)\n",
        "\n",
        "# ตรวจสอบว่าค่าว่างถูกจัดการหมดแล้ว\n",
        "print(titanic.isnull().sum())\n"
      ]
    },
    {
      "cell_type": "markdown",
      "id": "6f488b3f",
      "metadata": {
        "id": "6f488b3f"
      },
      "source": [
        "* แปลงข้อมูลเชิงคุณภาพให้เป็นตัวเลข \\\n",
        "    i. (10 points) ใช้ one-hot encoding ในการแปลงตัวแปร Embarked \\\n",
        "    ii. (10 points) แปลงตัวแปร Sex โดยให้เพศชายเป็น 0 และเพศหญิงเป็น 1 \\\n",
        "    iii. (10 points) สร้างตัวแปร FamilySize ซึ่งเป็นผลรวมของตัวแปร SibSp (number of siblings/spouses aboard) และ Parch (number of parents/children aboard) \\\n",
        "    iv. (10 points) สร้างตัวแปร IsAlone ซึ่งมีค่าเป็น 1 ถ้า FamilySize เป็น 0, และมีค่าเป็นศูนย์เมื่อเป็นอื่น"
      ]
    },
    {
      "cell_type": "code",
      "execution_count": 9,
      "id": "ed335c3c",
      "metadata": {
        "id": "ed335c3c",
        "colab": {
          "base_uri": "https://localhost:8080/"
        },
        "outputId": "296ff0ec-5255-48ea-c2a6-e0cd6d15960a"
      },
      "outputs": [
        {
          "output_type": "stream",
          "name": "stdout",
          "text": [
            "   pclass  survived                                             name     sex  \\\n",
            "0       1         1                    Allen, Miss. Elisabeth Walton  female   \n",
            "1       1         1                   Allison, Master. Hudson Trevor    male   \n",
            "2       1         0                     Allison, Miss. Helen Loraine  female   \n",
            "3       1         0             Allison, Mr. Hudson Joshua Creighton    male   \n",
            "4       1         0  Allison, Mrs. Hudson J C (Bessie Waldo Daniels)  female   \n",
            "\n",
            "       age  sibsp  parch  ticket      fare     boat  \\\n",
            "0  29.0000      0      0   24160  211.3375        2   \n",
            "1   0.9167      1      2  113781  151.5500       11   \n",
            "2   2.0000      1      2  113781  151.5500  Unknown   \n",
            "3  30.0000      1      2  113781  151.5500  Unknown   \n",
            "4  25.0000      1      2  113781  151.5500  Unknown   \n",
            "\n",
            "                         home.dest  Embarked_Q  Embarked_S  \n",
            "0                     St Louis, MO       False        True  \n",
            "1  Montreal, PQ / Chesterville, ON       False        True  \n",
            "2  Montreal, PQ / Chesterville, ON       False        True  \n",
            "3  Montreal, PQ / Chesterville, ON       False        True  \n",
            "4  Montreal, PQ / Chesterville, ON       False        True  \n"
          ]
        }
      ],
      "source": [
        "# ใช้ one-hot encoding กับตัวแปร Embarked\n",
        "titanic = pd.get_dummies(titanic, columns=['embarked'], prefix='Embarked', drop_first=True)\n",
        "\n",
        "# แสดงตัวอย่างข้อมูลหลังจากทำ one-hot encoding\n",
        "print(titanic.head())\n"
      ]
    },
    {
      "cell_type": "code",
      "source": [
        "# แปลงตัวแปร sex โดยเพศชายเป็น 0 และเพศหญิงเป็น 1\n",
        "titanic['sex'] = titanic['sex'].map({'male': 0, 'female': 1})\n",
        "\n",
        "# ตรวจสอบผลลัพธ์\n",
        "print(titanic[['sex']].head())\n"
      ],
      "metadata": {
        "colab": {
          "base_uri": "https://localhost:8080/"
        },
        "id": "SOkypexoHMfH",
        "outputId": "a5dcbce6-43c3-4ad3-ebc1-fd8406607658"
      },
      "id": "SOkypexoHMfH",
      "execution_count": 10,
      "outputs": [
        {
          "output_type": "stream",
          "name": "stdout",
          "text": [
            "   sex\n",
            "0    1\n",
            "1    0\n",
            "2    1\n",
            "3    0\n",
            "4    1\n"
          ]
        }
      ]
    },
    {
      "cell_type": "code",
      "source": [
        "# สร้างตัวแปร FamilySize โดยเป็นผลรวมของ SibSp และ Parch\n",
        "titanic['FamilySize'] = titanic['sibsp'] + titanic['parch']\n",
        "\n",
        "# ตรวจสอบผลลัพธ์\n",
        "print(titanic[['sibsp', 'parch', 'FamilySize']].head())\n"
      ],
      "metadata": {
        "colab": {
          "base_uri": "https://localhost:8080/"
        },
        "id": "SudAiTlFHT05",
        "outputId": "bea36b71-58e0-42a6-8127-64e4dc53563a"
      },
      "id": "SudAiTlFHT05",
      "execution_count": 11,
      "outputs": [
        {
          "output_type": "stream",
          "name": "stdout",
          "text": [
            "   sibsp  parch  FamilySize\n",
            "0      0      0           0\n",
            "1      1      2           3\n",
            "2      1      2           3\n",
            "3      1      2           3\n",
            "4      1      2           3\n"
          ]
        }
      ]
    },
    {
      "cell_type": "code",
      "source": [
        "# สร้างตัวแปร IsAlone โดยตรวจสอบว่า FamilySize เป็น 0 หรือไม่\n",
        "titanic['IsAlone'] = (titanic['FamilySize'] == 0).astype(int)\n",
        "\n",
        "# ตรวจสอบผลลัพธ์\n",
        "print(titanic[['FamilySize', 'IsAlone']].head())\n"
      ],
      "metadata": {
        "colab": {
          "base_uri": "https://localhost:8080/"
        },
        "id": "qQibWBHFHaFw",
        "outputId": "eb8a61f6-b5e9-4b7b-ff2a-7c29f2b2fc8d"
      },
      "id": "qQibWBHFHaFw",
      "execution_count": 12,
      "outputs": [
        {
          "output_type": "stream",
          "name": "stdout",
          "text": [
            "   FamilySize  IsAlone\n",
            "0           0        1\n",
            "1           3        0\n",
            "2           3        0\n",
            "3           3        0\n",
            "4           3        0\n"
          ]
        }
      ]
    },
    {
      "cell_type": "markdown",
      "id": "63740426",
      "metadata": {
        "id": "63740426"
      },
      "source": [
        "* ทำการ Normalize ข้อมูล \\\n",
        "    i. (10 points) ตัวแปร Fare และ Age ใช้ Min-Max Scaling \\\n",
        "    ii. (10 points) สร้างตัวแปรใหม่ Fare_Per_Person ด้วยการนำตัวแปร Fare มาหารด้วย FamilySize + 1 \\\n",
        "    iii. (10 points) สร้างตัวแปร AgeGroup ที่ระบุกลุ่มอายุของตัวอย่าง โดยแบ่งเป็นกลุ่มดังนี้ [0, 12), [12, 18), [18, 50) และ [50, 100)"
      ]
    },
    {
      "cell_type": "code",
      "source": [
        "import pandas as pd\n",
        "import numpy as np\n",
        "pd.cut(np.array([1, 7, 5, 4, 6, 3]), 3)"
      ],
      "metadata": {
        "colab": {
          "base_uri": "https://localhost:8080/"
        },
        "id": "2CAW4T4MbE9x",
        "outputId": "9ad25bea-0111-4d5c-f9e0-b91e11fb8bd3"
      },
      "id": "2CAW4T4MbE9x",
      "execution_count": null,
      "outputs": [
        {
          "output_type": "execute_result",
          "data": {
            "text/plain": [
              "[(0.994, 3.0], (5.0, 7.0], (3.0, 5.0], (3.0, 5.0], (5.0, 7.0], (0.994, 3.0]]\n",
              "Categories (3, interval[float64, right]): [(0.994, 3.0] < (3.0, 5.0] < (5.0, 7.0]]"
            ]
          },
          "metadata": {},
          "execution_count": 2
        }
      ]
    },
    {
      "cell_type": "code",
      "source": [
        "pd.cut(np.array([1, 7, 5, 4, 6, 3]), [0,2,5,8])"
      ],
      "metadata": {
        "colab": {
          "base_uri": "https://localhost:8080/"
        },
        "id": "Weusw3ZebJHI",
        "outputId": "224a4e7d-519d-40fe-a79f-8581286a4fda"
      },
      "id": "Weusw3ZebJHI",
      "execution_count": null,
      "outputs": [
        {
          "output_type": "execute_result",
          "data": {
            "text/plain": [
              "[(0, 2], (5, 8], (2, 5], (2, 5], (5, 8], (2, 5]]\n",
              "Categories (3, interval[int64, right]): [(0, 2] < (2, 5] < (5, 8]]"
            ]
          },
          "metadata": {},
          "execution_count": 5
        }
      ]
    },
    {
      "cell_type": "code",
      "execution_count": null,
      "id": "67e40193",
      "metadata": {
        "id": "67e40193"
      },
      "outputs": [],
      "source": []
    },
    {
      "cell_type": "code",
      "source": [
        "from sklearn.preprocessing import MinMaxScaler\n"
      ],
      "metadata": {
        "id": "kE4PXyQyxmvr"
      },
      "id": "kE4PXyQyxmvr",
      "execution_count": 13,
      "outputs": []
    },
    {
      "cell_type": "code",
      "source": [
        "\n",
        "# กำหนดตัวแปรที่ต้องการทำ Min-Max Scaling\n",
        "scaler = MinMaxScaler()"
      ],
      "metadata": {
        "id": "Gp7bF4VZxnrD"
      },
      "id": "Gp7bF4VZxnrD",
      "execution_count": 14,
      "outputs": []
    },
    {
      "cell_type": "code",
      "source": [
        "# ทำ Min-Max Scaling สำหรับตัวแปร Fare และ Age\n",
        "titanic[['fare', 'age']] = scaler.fit_transform(titanic[['fare', 'age']])\n",
        "\n",
        "# ตรวจสอบผลลัพธ์\n",
        "print(titanic[['fare', 'age']].head())"
      ],
      "metadata": {
        "colab": {
          "base_uri": "https://localhost:8080/"
        },
        "id": "f3XJYLLsxqjb",
        "outputId": "43c526ad-8488-44ae-c9c7-3a627e245847"
      },
      "id": "f3XJYLLsxqjb",
      "execution_count": 15,
      "outputs": [
        {
          "output_type": "stream",
          "name": "stdout",
          "text": [
            "       fare       age\n",
            "0  0.412503  0.361169\n",
            "1  0.295806  0.009395\n",
            "2  0.295806  0.022964\n",
            "3  0.295806  0.373695\n",
            "4  0.295806  0.311064\n"
          ]
        }
      ]
    },
    {
      "cell_type": "code",
      "source": [
        "# ii\n",
        "# สร้างตัวแปร Fare_Per_Person โดยนำค่า Fare มาหารด้วย FamilySize + 1\n",
        "titanic['Fare_Per_Person'] = titanic['fare'] / (titanic['FamilySize'] + 1)\n",
        "\n",
        "# ตรวจสอบผลลัพธ์\n",
        "print(titanic[['fare', 'FamilySize', 'Fare_Per_Person']].head())"
      ],
      "metadata": {
        "colab": {
          "base_uri": "https://localhost:8080/"
        },
        "id": "Xnb9Gbdwxtka",
        "outputId": "4d9b9830-ff5b-4dff-aa7e-e70d7df988d2"
      },
      "id": "Xnb9Gbdwxtka",
      "execution_count": 16,
      "outputs": [
        {
          "output_type": "stream",
          "name": "stdout",
          "text": [
            "       fare  FamilySize  Fare_Per_Person\n",
            "0  0.412503           0         0.412503\n",
            "1  0.295806           3         0.073951\n",
            "2  0.295806           3         0.073951\n",
            "3  0.295806           3         0.073951\n",
            "4  0.295806           3         0.073951\n"
          ]
        }
      ]
    },
    {
      "cell_type": "code",
      "source": [
        "#III\n",
        "# สร้างตัวแปร AgeGroup โดยใช้ pd.cut เพื่อแบ่งช่วงอายุ\n",
        "bins = [0, 12, 18, 50, 100]\n",
        "labels = ['Child', 'Teen', 'Adult', 'Senior']\n",
        "titanic['AgeGroup'] = pd.cut(titanic['age'], bins=bins, labels=labels, right=False)\n",
        "\n",
        "# ตรวจสอบผลลัพธ์\n",
        "print(titanic[['age', 'AgeGroup']].head())"
      ],
      "metadata": {
        "colab": {
          "base_uri": "https://localhost:8080/"
        },
        "id": "hIgf93RhxyYt",
        "outputId": "ec285c18-d932-4b8a-c198-984669cb01d1"
      },
      "id": "hIgf93RhxyYt",
      "execution_count": 17,
      "outputs": [
        {
          "output_type": "stream",
          "name": "stdout",
          "text": [
            "        age AgeGroup\n",
            "0  0.361169    Child\n",
            "1  0.009395    Child\n",
            "2  0.022964    Child\n",
            "3  0.373695    Child\n",
            "4  0.311064    Child\n"
          ]
        }
      ]
    },
    {
      "cell_type": "code",
      "source": [],
      "metadata": {
        "id": "xXUcswnoxtev"
      },
      "id": "xXUcswnoxtev",
      "execution_count": null,
      "outputs": []
    },
    {
      "cell_type": "markdown",
      "id": "36f92939",
      "metadata": {
        "id": "36f92939"
      },
      "source": [
        "* (10 points) นำเสนอการแจกแจงหรือทำความเข้าใจตัวแปรสำคัญในข้อมูล เช่น Age, Fare, and Pclass ด้วยการสร้างฮิสโตแกรมหรือแผนภาพกล่อง"
      ]
    },
    {
      "cell_type": "code",
      "execution_count": 18,
      "id": "1a1c4bd9",
      "metadata": {
        "id": "1a1c4bd9",
        "colab": {
          "base_uri": "https://localhost:8080/",
          "height": 957
        },
        "outputId": "0791f1ca-26cd-4a04-d24f-ce6d860c6fdc"
      },
      "outputs": [
        {
          "output_type": "display_data",
          "data": {
            "text/plain": [
              "<Figure size 1500x1000 with 6 Axes>"
            ],
            "image/png": "[encoded data removed]"
          },
          "metadata": {}
        }
      ],
      "source": [
        "import matplotlib.pyplot as plt\n",
        "import seaborn as sns\n",
        "\n",
        "# ตั้งค่าขนาดของกราฟ\n",
        "plt.figure(figsize=(15, 10))\n",
        "\n",
        "# สร้างฮิสโตแกรมของตัวแปร Age\n",
        "plt.subplot(2, 3, 1)\n",
        "sns.histplot(titanic['age'], bins=20, kde=True)\n",
        "plt.title('Age Distribution')\n",
        "\n",
        "# สร้างฮิสโตแกรมของตัวแปร Fare\n",
        "plt.subplot(2, 3, 2)\n",
        "sns.histplot(titanic['fare'], bins=20, kde=True)\n",
        "plt.title('Fare Distribution')\n",
        "\n",
        "# สร้างฮิสโตแกรมของตัวแปร Pclass\n",
        "plt.subplot(2, 3, 3)\n",
        "sns.countplot(x='pclass', data=titanic)\n",
        "plt.title('Pclass Distribution')\n",
        "\n",
        "# สร้างแผนภาพกล่องของตัวแปร Age\n",
        "plt.subplot(2, 3, 4)\n",
        "sns.boxplot(y=titanic['age'])\n",
        "plt.title('Age Boxplot')\n",
        "\n",
        "# สร้างแผนภาพกล่องของตัวแปร Fare\n",
        "plt.subplot(2, 3, 5)\n",
        "sns.boxplot(y=titanic['fare'])\n",
        "plt.title('Fare Boxplot')\n",
        "\n",
        "# สร้างแผนภาพกล่องของตัวแปร Pclass\n",
        "plt.subplot(2, 3, 6)\n",
        "sns.boxplot(x=titanic['pclass'])\n",
        "plt.title('Pclass Boxplot')\n",
        "\n",
        "# แสดงกราฟทั้งหมด\n",
        "plt.tight_layout()\n",
        "plt.show()\n"
      ]
    },
    {
      "cell_type": "markdown",
      "id": "b69b218a",
      "metadata": {
        "id": "b69b218a"
      },
      "source": [
        "* เมื่อเตรียมข้อมูลพร้อมแล้ว ให้หาความสัมพันธ์ของตัวแปรต่อไปนี้จากข้อมูล ซึ่งอาจนำเสนอด้วยสถิติและแผนภูมิหรือกราฟก็ได้: \\\n",
        "    i. (10 points) survived และ pclass \\\n",
        "    ii. (10 points) survived และ sex \\\n",
        "    iii. (10 points) survived และ age \\\n",
        "    iv. (10 points) จำนวนสมาชิกครอบครัวที่รอดชีวิต และ Fare"
      ]
    },
    {
      "cell_type": "code",
      "execution_count": 19,
      "id": "27fcc0c4",
      "metadata": {
        "id": "27fcc0c4",
        "colab": {
          "base_uri": "https://localhost:8080/",
          "height": 467
        },
        "outputId": "b876b212-0d2f-4400-debd-d6d82e243350"
      },
      "outputs": [
        {
          "output_type": "display_data",
          "data": {
            "text/plain": [
              "<Figure size 640x480 with 1 Axes>"
            ],
            "image/png": "[encoded data removed]"
          },
          "metadata": {}
        }
      ],
      "source": [
        "# วิเคราะห์ตารางไขว้ความสัมพันธ์ระหว่าง survived และ pclass\n",
        "pclass_survival = pd.crosstab(titanic['pclass'], titanic['survived'], normalize='index')\n",
        "\n",
        "# แสดงผลลัพธ์ด้วยแผนภูมิแท่ง\n",
        "pclass_survival.plot(kind='bar', stacked=True)\n",
        "plt.title('Survival Rate by Passenger Class')\n",
        "plt.xlabel('Passenger Class')\n",
        "plt.ylabel('Proportion of Survival')\n",
        "plt.legend(title='Survived', loc='upper right')\n",
        "plt.show()"
      ]
    },
    {
      "cell_type": "code",
      "source": [
        "# วิเคราะห์ตารางไขว้ความสัมพันธ์ระหว่าง survived และ sex\n",
        "sex_survival = pd.crosstab(titanic['sex'], titanic['survived'], normalize='index')\n",
        "\n",
        "# แสดงผลลัพธ์ด้วยแผนภูมิแท่ง\n",
        "sex_survival.plot(kind='bar', stacked=True)\n",
        "plt.title('Survival Rate by Sex')\n",
        "plt.xlabel('Sex')\n",
        "plt.ylabel('Proportion of Survival')\n",
        "plt.legend(title='Survived', loc='upper right')\n",
        "plt.show()"
      ],
      "metadata": {
        "colab": {
          "base_uri": "https://localhost:8080/",
          "height": 467
        },
        "id": "Wwi-LEd0yZi0",
        "outputId": "852ca9b0-4d89-44e2-ea15-ea039b6f916f"
      },
      "id": "Wwi-LEd0yZi0",
      "execution_count": 20,
      "outputs": [
        {
          "output_type": "display_data",
          "data": {
            "text/plain": [
              "<Figure size 640x480 with 1 Axes>"
            ],
            "image/png": "[encoded data removed]"
          },
          "metadata": {}
        }
      ]
    },
    {
      "cell_type": "code",
      "source": [
        "# สร้างกราฟการแจกแจงของตัวแปร age แยกตาม survived\n",
        "sns.histplot(data=titanic, x='age', hue='survived', kde=True, element='step', stat='density', common_norm=False)\n",
        "plt.title('Age Distribution by Survival Status')\n",
        "plt.xlabel('Age')\n",
        "plt.ylabel('Density')\n",
        "plt.show()\n"
      ],
      "metadata": {
        "colab": {
          "base_uri": "https://localhost:8080/",
          "height": 472
        },
        "id": "_DWJQf8rycN9",
        "outputId": "39565201-475f-4e2f-df00-9f2bb72c6685"
      },
      "id": "_DWJQf8rycN9",
      "execution_count": 21,
      "outputs": [
        {
          "output_type": "display_data",
          "data": {
            "text/plain": [
              "<Figure size 640x480 with 1 Axes>"
            ],
            "image/png": "[encoded data removed]"
          },
          "metadata": {}
        }
      ]
    },
    {
      "cell_type": "code",
      "source": [
        "# สร้างกราฟการกระจายเพื่อดูความสัมพันธ์ระหว่าง FamilySize และ Fare\n",
        "sns.scatterplot(data=titanic, x='FamilySize', y='fare', hue='survived')\n",
        "plt.title('Survival vs Family Size and Fare')\n",
        "plt.xlabel('Family Size')\n",
        "plt.ylabel('Fare')\n",
        "plt.legend(title='Survived')\n",
        "plt.show()\n",
        "\n"
      ],
      "metadata": {
        "colab": {
          "base_uri": "https://localhost:8080/",
          "height": 472
        },
        "id": "RFhV6d8dyfM5",
        "outputId": "1e67f474-6577-426e-9caf-249e836f5e74"
      },
      "id": "RFhV6d8dyfM5",
      "execution_count": 22,
      "outputs": [
        {
          "output_type": "display_data",
          "data": {
            "text/plain": [
              "<Figure size 640x480 with 1 Axes>"
            ],
            "image/png": "[encoded data removed]"
          },
          "metadata": {}
        }
      ]
    },
    {
      "cell_type": "markdown",
      "id": "c2d754e0",
      "metadata": {
        "id": "c2d754e0"
      },
      "source": [
        "* (10 points) สร้างตารางสรุปข้อมูลเพื่อหาคุณลักษณะของผู้โดยสารเรือไททานิค และศึกษาเกี่ยวกับการเสียชีวิตของผู้โดยสาร ทำการสรุปผลที่ได้จากตาราง"
      ]
    },
    {
      "cell_type": "code",
      "execution_count": 23,
      "id": "483206c4",
      "metadata": {
        "id": "483206c4",
        "colab": {
          "base_uri": "https://localhost:8080/"
        },
        "outputId": "1c87ef1d-4e27-417b-b378-0aae49f399ae"
      },
      "outputs": [
        {
          "output_type": "stream",
          "name": "stdout",
          "text": [
            "  survived       age                                              fare  \\\n",
            "                mean    median       std       min       max      mean   \n",
            "0        0  0.373038  0.348643  0.153117  0.002087  0.924843  0.045562   \n",
            "1        1  0.358465  0.348643  0.174364  0.000000  1.000000  0.096347   \n",
            "\n",
            "                                     FamilySize                           \\\n",
            "     median       std  min       max       mean median       std min max   \n",
            "0  0.020495  0.066608  0.0  0.513342   0.850433    0.0  1.792760   0  10   \n",
            "1  0.050749  0.133994  0.0  1.000000   0.938000    1.0  1.168283   0   6   \n",
            "\n",
            "       sex   pclass  \n",
            "  <lambda> <lambda>  \n",
            "0        0        3  \n",
            "1        1        1  \n"
          ]
        }
      ],
      "source": [
        "# สร้างตารางสรุปโดยการแบ่งกลุ่มตาม survived\n",
        "summary_table = titanic.groupby('survived').agg({\n",
        "    'age': ['mean', 'median', 'std', 'min', 'max'],\n",
        "    'fare': ['mean', 'median', 'std', 'min', 'max'],\n",
        "    'FamilySize': ['mean', 'median', 'std', 'min', 'max'],\n",
        "    'sex': lambda x: x.value_counts().index[0],  # ดูเพศที่มีความถี่มากที่สุดในกลุ่ม\n",
        "    'pclass': lambda x: x.value_counts().index[0],  # ดูชั้นโดยสารที่มีความถี่มากที่สุดในกลุ่ม\n",
        "}).reset_index()\n",
        "\n",
        "# แสดงผลตารางสรุป\n",
        "print(summary_table)\n"
      ]
    },
    {
      "cell_type": "markdown",
      "id": "35649ff8",
      "metadata": {
        "id": "35649ff8"
      },
      "source": [
        "-----------------\n",
        "# เสร็จแล้ววววว 🥳\n",
        "\n",
        "สิ่งที่ต้องแนบส่ง:\n",
        "* ไฟล์ pdf ของ IPythonNotebook ซึ่งมีผลลัพธ์จากการรันโค้ดแสดงทั้งหมด"
      ]
    }
  ],
  "metadata": {
    "kernelspec": {
      "display_name": "Python 3 (ipykernel)",
      "language": "python",
      "name": "python3"
    },
    "language_info": {
      "codemirror_mode": {
        "name": "ipython",
        "version": 3
      },
      "file_extension": ".py",
      "mimetype": "text/x-python",
      "name": "python",
      "nbconvert_exporter": "python",
      "pygments_lexer": "ipython3",
      "version": "3.8.8"
    },
    "colab": {
      "provenance": [],
      "include_colab_link": true
    }
  },
  "nbformat": 4,
  "nbformat_minor": 5
}